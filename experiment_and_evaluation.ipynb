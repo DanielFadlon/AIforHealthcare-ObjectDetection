{
  "nbformat": 4,
  "nbformat_minor": 0,
  "metadata": {
    "colab": {
      "provenance": [],
      "machine_shape": "hm",
      "gpuType": "T4",
      "include_colab_link": true
    },
    "kernelspec": {
      "name": "python3",
      "display_name": "Python 3"
    },
    "language_info": {
      "name": "python"
    },
    "accelerator": "GPU"
  },
  "cells": [
    {
      "cell_type": "markdown",
      "metadata": {
        "id": "view-in-github",
        "colab_type": "text"
      },
      "source": [
        "<a href=\"https://colab.research.google.com/github/DanielFadlon/AIforHealthcare-ObjectDetection/blob/main/experiment_and_evaluation.ipynb\" target=\"_parent\"><img src=\"https://colab.research.google.com/assets/colab-badge.svg\" alt=\"Open In Colab\"/></a>"
      ]
    },
    {
      "cell_type": "markdown",
      "source": [
        "# Using Colab\n",
        "\n",
        "after uploading the fined tuned moel to our google drive"
      ],
      "metadata": {
        "id": "RlkNTjQvyHlo"
      }
    },
    {
      "cell_type": "code",
      "source": [
        "SOURCE_LIVER_PATH = './Task03_Liver'\n",
        "\n",
        "PROJ_DIR_PATH_BRODSKY = \"/content/drive/My Drive/IDC/MSc/Healthcare AI\" # /content/gdrive/Shared drives/AIforHealthcare/objectDetection\n",
        "PROJ_DIR_PATH_FADLON = '/content/drive/MyDrive/AIforHealthcare/objectDetection'\n",
        "\n",
        "#  ------------- Select your project directory ------------- #\n",
        "PROJ_DIR_PATH = PROJ_DIR_PATH_FADLON"
      ],
      "metadata": {
        "id": "ZHCFMyWkV7Zw"
      },
      "execution_count": 1,
      "outputs": []
    },
    {
      "cell_type": "code",
      "source": [
        "!pip install gdown\n",
        "!pip install nibabel\n",
        "!pip install torchmetrics"
      ],
      "metadata": {
        "colab": {
          "base_uri": "https://localhost:8080/"
        },
        "id": "LQ6eDzuO_X4N",
        "outputId": "ca84f941-49b6-4397-ac2f-00294400a169"
      },
      "execution_count": 2,
      "outputs": [
        {
          "output_type": "stream",
          "name": "stdout",
          "text": [
            "Looking in indexes: https://pypi.org/simple, https://us-python.pkg.dev/colab-wheels/public/simple/\n",
            "Requirement already satisfied: gdown in /usr/local/lib/python3.10/dist-packages (4.6.6)\n",
            "Requirement already satisfied: filelock in /usr/local/lib/python3.10/dist-packages (from gdown) (3.12.0)\n",
            "Requirement already satisfied: requests[socks] in /usr/local/lib/python3.10/dist-packages (from gdown) (2.27.1)\n",
            "Requirement already satisfied: six in /usr/local/lib/python3.10/dist-packages (from gdown) (1.16.0)\n",
            "Requirement already satisfied: tqdm in /usr/local/lib/python3.10/dist-packages (from gdown) (4.65.0)\n",
            "Requirement already satisfied: beautifulsoup4 in /usr/local/lib/python3.10/dist-packages (from gdown) (4.11.2)\n",
            "Requirement already satisfied: soupsieve>1.2 in /usr/local/lib/python3.10/dist-packages (from beautifulsoup4->gdown) (2.4.1)\n",
            "Requirement already satisfied: urllib3<1.27,>=1.21.1 in /usr/local/lib/python3.10/dist-packages (from requests[socks]->gdown) (1.26.15)\n",
            "Requirement already satisfied: certifi>=2017.4.17 in /usr/local/lib/python3.10/dist-packages (from requests[socks]->gdown) (2022.12.7)\n",
            "Requirement already satisfied: charset-normalizer~=2.0.0 in /usr/local/lib/python3.10/dist-packages (from requests[socks]->gdown) (2.0.12)\n",
            "Requirement already satisfied: idna<4,>=2.5 in /usr/local/lib/python3.10/dist-packages (from requests[socks]->gdown) (3.4)\n",
            "Requirement already satisfied: PySocks!=1.5.7,>=1.5.6 in /usr/local/lib/python3.10/dist-packages (from requests[socks]->gdown) (1.7.1)\n",
            "Looking in indexes: https://pypi.org/simple, https://us-python.pkg.dev/colab-wheels/public/simple/\n",
            "Requirement already satisfied: nibabel in /usr/local/lib/python3.10/dist-packages (3.0.2)\n",
            "Requirement already satisfied: numpy>=1.12 in /usr/local/lib/python3.10/dist-packages (from nibabel) (1.22.4)\n",
            "Looking in indexes: https://pypi.org/simple, https://us-python.pkg.dev/colab-wheels/public/simple/\n",
            "Collecting torchmetrics\n",
            "  Downloading torchmetrics-0.11.4-py3-none-any.whl (519 kB)\n",
            "\u001b[2K     \u001b[90m━━━━━━━━━━━━━━━━━━━━━━━━━━━━━━━━━━━━━━\u001b[0m \u001b[32m519.2/519.2 kB\u001b[0m \u001b[31m30.6 MB/s\u001b[0m eta \u001b[36m0:00:00\u001b[0m\n",
            "\u001b[?25hRequirement already satisfied: numpy>=1.17.2 in /usr/local/lib/python3.10/dist-packages (from torchmetrics) (1.22.4)\n",
            "Requirement already satisfied: torch>=1.8.1 in /usr/local/lib/python3.10/dist-packages (from torchmetrics) (2.0.1+cu118)\n",
            "Requirement already satisfied: packaging in /usr/local/lib/python3.10/dist-packages (from torchmetrics) (23.1)\n",
            "Requirement already satisfied: filelock in /usr/local/lib/python3.10/dist-packages (from torch>=1.8.1->torchmetrics) (3.12.0)\n",
            "Requirement already satisfied: typing-extensions in /usr/local/lib/python3.10/dist-packages (from torch>=1.8.1->torchmetrics) (4.5.0)\n",
            "Requirement already satisfied: sympy in /usr/local/lib/python3.10/dist-packages (from torch>=1.8.1->torchmetrics) (1.11.1)\n",
            "Requirement already satisfied: networkx in /usr/local/lib/python3.10/dist-packages (from torch>=1.8.1->torchmetrics) (3.1)\n",
            "Requirement already satisfied: jinja2 in /usr/local/lib/python3.10/dist-packages (from torch>=1.8.1->torchmetrics) (3.1.2)\n",
            "Requirement already satisfied: triton==2.0.0 in /usr/local/lib/python3.10/dist-packages (from torch>=1.8.1->torchmetrics) (2.0.0)\n",
            "Requirement already satisfied: cmake in /usr/local/lib/python3.10/dist-packages (from triton==2.0.0->torch>=1.8.1->torchmetrics) (3.25.2)\n",
            "Requirement already satisfied: lit in /usr/local/lib/python3.10/dist-packages (from triton==2.0.0->torch>=1.8.1->torchmetrics) (16.0.5)\n",
            "Requirement already satisfied: MarkupSafe>=2.0 in /usr/local/lib/python3.10/dist-packages (from jinja2->torch>=1.8.1->torchmetrics) (2.1.2)\n",
            "Requirement already satisfied: mpmath>=0.19 in /usr/local/lib/python3.10/dist-packages (from sympy->torch>=1.8.1->torchmetrics) (1.3.0)\n",
            "Installing collected packages: torchmetrics\n",
            "Successfully installed torchmetrics-0.11.4\n"
          ]
        }
      ]
    },
    {
      "cell_type": "code",
      "source": [
        "#Files\n",
        "import tarfile\n",
        "import shutil\n",
        "import json\n",
        "\n",
        "# ML / AI / Vision\n",
        "import pandas as pd\n",
        "import numpy as np\n",
        "import torch\n",
        "import torchvision\n",
        "from torch.utils.data import random_split, DataLoader, Dataset\n",
        "from torchvision import transforms\n",
        "from torchvision.ops import masks_to_boxes\n",
        "from scipy.ndimage import label as scipy_label\n",
        "from torchvision.models.detection import retinanet_resnet50_fpn_v2\n",
        "\n",
        "# Evaluation\n",
        "from torchvision.ops import box_iou\n",
        "from torchmetrics.detection.mean_ap import MeanAveragePrecision\n",
        "\n",
        "# Visual\n",
        "import matplotlib.pyplot as plt\n",
        "import matplotlib.patches as patches\n",
        "import nibabel as nib\n",
        "\n",
        "# General\n",
        "import os\n",
        "from typing import Optional, Tuple, List, Dict\n",
        "from tqdm import tqdm\n",
        "from dataclasses import dataclass, asdict\n",
        "from concurrent.futures import ThreadPoolExecutor, as_completed\n",
        "from pprint import pprint\n",
        "import time\n",
        "import datetime\n",
        "import traceback\n",
        "\n",
        "\n",
        "from google.colab import drive\n",
        "\n",
        "torchvision.__version__, torch.__version__"
      ],
      "metadata": {
        "id": "6rrVanWc9bD7",
        "colab": {
          "base_uri": "https://localhost:8080/"
        },
        "outputId": "319b7c43-0d2b-4e07-a244-e6d8638c1bb2"
      },
      "execution_count": 3,
      "outputs": [
        {
          "output_type": "execute_result",
          "data": {
            "text/plain": [
              "('0.15.2+cu118', '2.0.1+cu118')"
            ]
          },
          "metadata": {},
          "execution_count": 3
        }
      ]
    },
    {
      "cell_type": "code",
      "source": [
        "drive.mount('/content/drive')"
      ],
      "metadata": {
        "colab": {
          "base_uri": "https://localhost:8080/"
        },
        "id": "RgNMzYtByb8W",
        "outputId": "754cad47-5a72-4b16-9129-a2e3e8539a6b"
      },
      "execution_count": 4,
      "outputs": [
        {
          "output_type": "stream",
          "name": "stdout",
          "text": [
            "Mounted at /content/drive\n"
          ]
        }
      ]
    },
    {
      "cell_type": "code",
      "source": [
        "if os.path.exists(PROJ_DIR_PATH):\n",
        "  GDRIVE_SLICES_JSON_PATH = os.path.join(PROJ_DIR_PATH, \"slices_data.json\")\n",
        "  GDRIVE_LIVER_DATA_PATH= os.path.join(PROJ_DIR_PATH, \"Task03_Liver\")\n",
        "\n",
        "  os.listdir(GDRIVE_LIVER_DATA_PATH), os.path.exists(GDRIVE_SLICES_JSON_PATH)"
      ],
      "metadata": {
        "id": "GjqpdYQxMHHJ"
      },
      "execution_count": 5,
      "outputs": []
    },
    {
      "cell_type": "markdown",
      "source": [
        "## Load Data"
      ],
      "metadata": {
        "id": "UsKl3qAsWWzo"
      }
    },
    {
      "cell_type": "code",
      "source": [
        "### ---- load from Drive ---- ###\n",
        "\n",
        "with open(GDRIVE_SLICES_JSON_PATH, \"r\") as f:\n",
        "    data = json.load(f)\n",
        "\n",
        "df_data = pd.DataFrame(data)"
      ],
      "metadata": {
        "id": "BAKyC_a65fhc"
      },
      "execution_count": 8,
      "outputs": []
    },
    {
      "cell_type": "code",
      "source": [
        "bbox = Tuple[float, float, float, float]"
      ],
      "metadata": {
        "id": "ZJkmwcXoy_6x"
      },
      "execution_count": 6,
      "outputs": []
    },
    {
      "cell_type": "code",
      "source": [
        "@dataclass\n",
        "class LiverSlice():\n",
        "  liver_image: str\n",
        "  label_image: str\n",
        "  slice_number: int\n",
        "  has_liver: bool\n",
        "  has_cancer: bool\n",
        "  cancer_bbox: List[bbox]"
      ],
      "metadata": {
        "id": "pYdyZF_ITX6l"
      },
      "execution_count": 7,
      "outputs": []
    },
    {
      "cell_type": "markdown",
      "source": [
        "### Remove invalid bounding boxes"
      ],
      "metadata": {
        "id": "TZKSQ8eGVe10"
      }
    },
    {
      "cell_type": "code",
      "source": [
        "def is_bbox_valid(bbox):\n",
        "  \"\"\"Returns True if the bounding box is valid, False otherwise\"\"\"\n",
        "  if bbox is None:\n",
        "    return False\n",
        "\n",
        "  x1, y1, x2, y2 = bbox\n",
        "  return x1 < x2 and y1 < y2\n",
        "\n",
        "def remove_invalid_bbox_if_needed(boxes):\n",
        "    \"\"\"Returns the list of valid bounding boxes, or None if all bounding boxes are invalid\"\"\"\n",
        "    valid_boxes = [box for box in boxes if is_bbox_valid(box)]\n",
        "    return valid_boxes if len(valid_boxes) > 0 else None\n"
      ],
      "metadata": {
        "id": "FY9gGJERdUW2"
      },
      "execution_count": 11,
      "outputs": []
    },
    {
      "cell_type": "code",
      "source": [
        "df_data['valid_cancer_bbox'] = df_data['cancer_bbox'].apply(remove_invalid_bbox_if_needed)"
      ],
      "metadata": {
        "id": "HT2ap2HCkd66"
      },
      "execution_count": 12,
      "outputs": []
    },
    {
      "cell_type": "code",
      "source": [
        "with_cancer = df_data[df_data['has_cancer'] == True]\n",
        "\n",
        "print(\"Total invalid slices:\", with_cancer['valid_cancer_bbox'].isna().sum())\n",
        "print(\"Total valid slices:\", with_cancer['valid_cancer_bbox'].notna().sum())\n",
        "\n",
        "print(\"Total removed bounding boxes:\", with_cancer['cancer_bbox'].apply(lambda x: len(x or [])).sum() - with_cancer['valid_cancer_bbox'].apply(lambda x: len(x or [])).sum())"
      ],
      "metadata": {
        "id": "hjrW7hlb5zGg",
        "colab": {
          "base_uri": "https://localhost:8080/"
        },
        "outputId": "834b6dd1-62a5-45d9-a3df-3139972afe52"
      },
      "execution_count": 13,
      "outputs": [
        {
          "output_type": "stream",
          "name": "stdout",
          "text": [
            "Total invalid slices: 53\n",
            "Total valid slices: 7137\n",
            "Total removed bounding boxes: 1305\n"
          ]
        }
      ]
    },
    {
      "cell_type": "markdown",
      "source": [
        "Finally, remove all invalid slices & bounding boxes from the dataset"
      ],
      "metadata": {
        "id": "yCYKnbBA56aE"
      }
    },
    {
      "cell_type": "code",
      "source": [
        "# Drop the invalid slices\n",
        "df_data_filtered = df_data[df_data['valid_cancer_bbox'].notna()]\n",
        "# Get only the valid bounding boxes\n",
        "df_data_filtered = df_data_filtered.drop(columns=['cancer_bbox'])\n",
        "df_data_filtered.rename(columns={'valid_cancer_bbox': 'cancer_bbox'}, inplace=True)\n",
        "\n",
        "df_data_filtered"
      ],
      "metadata": {
        "id": "vxF3gpH757Fh",
        "colab": {
          "base_uri": "https://localhost:8080/",
          "height": 424
        },
        "outputId": "4afaf103-8a81-4642-b47d-fd4a75a84d32"
      },
      "execution_count": 14,
      "outputs": [
        {
          "output_type": "execute_result",
          "data": {
            "text/plain": [
              "                       liver_image                  label_image  slice_number  \\\n",
              "74      ./imagesTr/liver_77.nii.gz   ./labelsTr/liver_77.nii.gz            74   \n",
              "75      ./imagesTr/liver_77.nii.gz   ./labelsTr/liver_77.nii.gz            75   \n",
              "76      ./imagesTr/liver_77.nii.gz   ./labelsTr/liver_77.nii.gz            76   \n",
              "77      ./imagesTr/liver_77.nii.gz   ./labelsTr/liver_77.nii.gz            77   \n",
              "78      ./imagesTr/liver_77.nii.gz   ./labelsTr/liver_77.nii.gz            78   \n",
              "...                            ...                          ...           ...   \n",
              "58365  ./imagesTr/liver_113.nii.gz  ./labelsTr/liver_113.nii.gz           563   \n",
              "58366  ./imagesTr/liver_113.nii.gz  ./labelsTr/liver_113.nii.gz           564   \n",
              "58367  ./imagesTr/liver_113.nii.gz  ./labelsTr/liver_113.nii.gz           565   \n",
              "58368  ./imagesTr/liver_113.nii.gz  ./labelsTr/liver_113.nii.gz           566   \n",
              "58369  ./imagesTr/liver_113.nii.gz  ./labelsTr/liver_113.nii.gz           567   \n",
              "\n",
              "       has_liver  has_cancer                     cancer_bbox  \n",
              "74          True        True  [[320.0, 355.0, 340.0, 376.0]]  \n",
              "75          True        True  [[309.0, 347.0, 336.0, 382.0]]  \n",
              "76          True        True  [[309.0, 345.0, 340.0, 390.0]]  \n",
              "77          True        True  [[308.0, 342.0, 340.0, 390.0]]  \n",
              "78          True        True  [[313.0, 360.0, 333.0, 386.0]]  \n",
              "...          ...         ...                             ...  \n",
              "58365       True        True  [[295.0, 391.0, 305.0, 398.0]]  \n",
              "58366       True        True  [[295.0, 390.0, 306.0, 397.0]]  \n",
              "58367       True        True  [[295.0, 390.0, 306.0, 395.0]]  \n",
              "58368       True        True  [[294.0, 390.0, 306.0, 394.0]]  \n",
              "58369       True        True  [[294.0, 390.0, 305.0, 392.0]]  \n",
              "\n",
              "[7137 rows x 6 columns]"
            ],
            "text/html": [
              "\n",
              "  <div id=\"df-ed7c5876-9558-4474-8a0e-47f8f2613876\">\n",
              "    <div class=\"colab-df-container\">\n",
              "      <div>\n",
              "<style scoped>\n",
              "    .dataframe tbody tr th:only-of-type {\n",
              "        vertical-align: middle;\n",
              "    }\n",
              "\n",
              "    .dataframe tbody tr th {\n",
              "        vertical-align: top;\n",
              "    }\n",
              "\n",
              "    .dataframe thead th {\n",
              "        text-align: right;\n",
              "    }\n",
              "</style>\n",
              "<table border=\"1\" class=\"dataframe\">\n",
              "  <thead>\n",
              "    <tr style=\"text-align: right;\">\n",
              "      <th></th>\n",
              "      <th>liver_image</th>\n",
              "      <th>label_image</th>\n",
              "      <th>slice_number</th>\n",
              "      <th>has_liver</th>\n",
              "      <th>has_cancer</th>\n",
              "      <th>cancer_bbox</th>\n",
              "    </tr>\n",
              "  </thead>\n",
              "  <tbody>\n",
              "    <tr>\n",
              "      <th>74</th>\n",
              "      <td>./imagesTr/liver_77.nii.gz</td>\n",
              "      <td>./labelsTr/liver_77.nii.gz</td>\n",
              "      <td>74</td>\n",
              "      <td>True</td>\n",
              "      <td>True</td>\n",
              "      <td>[[320.0, 355.0, 340.0, 376.0]]</td>\n",
              "    </tr>\n",
              "    <tr>\n",
              "      <th>75</th>\n",
              "      <td>./imagesTr/liver_77.nii.gz</td>\n",
              "      <td>./labelsTr/liver_77.nii.gz</td>\n",
              "      <td>75</td>\n",
              "      <td>True</td>\n",
              "      <td>True</td>\n",
              "      <td>[[309.0, 347.0, 336.0, 382.0]]</td>\n",
              "    </tr>\n",
              "    <tr>\n",
              "      <th>76</th>\n",
              "      <td>./imagesTr/liver_77.nii.gz</td>\n",
              "      <td>./labelsTr/liver_77.nii.gz</td>\n",
              "      <td>76</td>\n",
              "      <td>True</td>\n",
              "      <td>True</td>\n",
              "      <td>[[309.0, 345.0, 340.0, 390.0]]</td>\n",
              "    </tr>\n",
              "    <tr>\n",
              "      <th>77</th>\n",
              "      <td>./imagesTr/liver_77.nii.gz</td>\n",
              "      <td>./labelsTr/liver_77.nii.gz</td>\n",
              "      <td>77</td>\n",
              "      <td>True</td>\n",
              "      <td>True</td>\n",
              "      <td>[[308.0, 342.0, 340.0, 390.0]]</td>\n",
              "    </tr>\n",
              "    <tr>\n",
              "      <th>78</th>\n",
              "      <td>./imagesTr/liver_77.nii.gz</td>\n",
              "      <td>./labelsTr/liver_77.nii.gz</td>\n",
              "      <td>78</td>\n",
              "      <td>True</td>\n",
              "      <td>True</td>\n",
              "      <td>[[313.0, 360.0, 333.0, 386.0]]</td>\n",
              "    </tr>\n",
              "    <tr>\n",
              "      <th>...</th>\n",
              "      <td>...</td>\n",
              "      <td>...</td>\n",
              "      <td>...</td>\n",
              "      <td>...</td>\n",
              "      <td>...</td>\n",
              "      <td>...</td>\n",
              "    </tr>\n",
              "    <tr>\n",
              "      <th>58365</th>\n",
              "      <td>./imagesTr/liver_113.nii.gz</td>\n",
              "      <td>./labelsTr/liver_113.nii.gz</td>\n",
              "      <td>563</td>\n",
              "      <td>True</td>\n",
              "      <td>True</td>\n",
              "      <td>[[295.0, 391.0, 305.0, 398.0]]</td>\n",
              "    </tr>\n",
              "    <tr>\n",
              "      <th>58366</th>\n",
              "      <td>./imagesTr/liver_113.nii.gz</td>\n",
              "      <td>./labelsTr/liver_113.nii.gz</td>\n",
              "      <td>564</td>\n",
              "      <td>True</td>\n",
              "      <td>True</td>\n",
              "      <td>[[295.0, 390.0, 306.0, 397.0]]</td>\n",
              "    </tr>\n",
              "    <tr>\n",
              "      <th>58367</th>\n",
              "      <td>./imagesTr/liver_113.nii.gz</td>\n",
              "      <td>./labelsTr/liver_113.nii.gz</td>\n",
              "      <td>565</td>\n",
              "      <td>True</td>\n",
              "      <td>True</td>\n",
              "      <td>[[295.0, 390.0, 306.0, 395.0]]</td>\n",
              "    </tr>\n",
              "    <tr>\n",
              "      <th>58368</th>\n",
              "      <td>./imagesTr/liver_113.nii.gz</td>\n",
              "      <td>./labelsTr/liver_113.nii.gz</td>\n",
              "      <td>566</td>\n",
              "      <td>True</td>\n",
              "      <td>True</td>\n",
              "      <td>[[294.0, 390.0, 306.0, 394.0]]</td>\n",
              "    </tr>\n",
              "    <tr>\n",
              "      <th>58369</th>\n",
              "      <td>./imagesTr/liver_113.nii.gz</td>\n",
              "      <td>./labelsTr/liver_113.nii.gz</td>\n",
              "      <td>567</td>\n",
              "      <td>True</td>\n",
              "      <td>True</td>\n",
              "      <td>[[294.0, 390.0, 305.0, 392.0]]</td>\n",
              "    </tr>\n",
              "  </tbody>\n",
              "</table>\n",
              "<p>7137 rows × 6 columns</p>\n",
              "</div>\n",
              "      <button class=\"colab-df-convert\" onclick=\"convertToInteractive('df-ed7c5876-9558-4474-8a0e-47f8f2613876')\"\n",
              "              title=\"Convert this dataframe to an interactive table.\"\n",
              "              style=\"display:none;\">\n",
              "        \n",
              "  <svg xmlns=\"http://www.w3.org/2000/svg\" height=\"24px\"viewBox=\"0 0 24 24\"\n",
              "       width=\"24px\">\n",
              "    <path d=\"M0 0h24v24H0V0z\" fill=\"none\"/>\n",
              "    <path d=\"M18.56 5.44l.94 2.06.94-2.06 2.06-.94-2.06-.94-.94-2.06-.94 2.06-2.06.94zm-11 1L8.5 8.5l.94-2.06 2.06-.94-2.06-.94L8.5 2.5l-.94 2.06-2.06.94zm10 10l.94 2.06.94-2.06 2.06-.94-2.06-.94-.94-2.06-.94 2.06-2.06.94z\"/><path d=\"M17.41 7.96l-1.37-1.37c-.4-.4-.92-.59-1.43-.59-.52 0-1.04.2-1.43.59L10.3 9.45l-7.72 7.72c-.78.78-.78 2.05 0 2.83L4 21.41c.39.39.9.59 1.41.59.51 0 1.02-.2 1.41-.59l7.78-7.78 2.81-2.81c.8-.78.8-2.07 0-2.86zM5.41 20L4 18.59l7.72-7.72 1.47 1.35L5.41 20z\"/>\n",
              "  </svg>\n",
              "      </button>\n",
              "      \n",
              "  <style>\n",
              "    .colab-df-container {\n",
              "      display:flex;\n",
              "      flex-wrap:wrap;\n",
              "      gap: 12px;\n",
              "    }\n",
              "\n",
              "    .colab-df-convert {\n",
              "      background-color: #E8F0FE;\n",
              "      border: none;\n",
              "      border-radius: 50%;\n",
              "      cursor: pointer;\n",
              "      display: none;\n",
              "      fill: #1967D2;\n",
              "      height: 32px;\n",
              "      padding: 0 0 0 0;\n",
              "      width: 32px;\n",
              "    }\n",
              "\n",
              "    .colab-df-convert:hover {\n",
              "      background-color: #E2EBFA;\n",
              "      box-shadow: 0px 1px 2px rgba(60, 64, 67, 0.3), 0px 1px 3px 1px rgba(60, 64, 67, 0.15);\n",
              "      fill: #174EA6;\n",
              "    }\n",
              "\n",
              "    [theme=dark] .colab-df-convert {\n",
              "      background-color: #3B4455;\n",
              "      fill: #D2E3FC;\n",
              "    }\n",
              "\n",
              "    [theme=dark] .colab-df-convert:hover {\n",
              "      background-color: #434B5C;\n",
              "      box-shadow: 0px 1px 3px 1px rgba(0, 0, 0, 0.15);\n",
              "      filter: drop-shadow(0px 1px 2px rgba(0, 0, 0, 0.3));\n",
              "      fill: #FFFFFF;\n",
              "    }\n",
              "  </style>\n",
              "\n",
              "      <script>\n",
              "        const buttonEl =\n",
              "          document.querySelector('#df-ed7c5876-9558-4474-8a0e-47f8f2613876 button.colab-df-convert');\n",
              "        buttonEl.style.display =\n",
              "          google.colab.kernel.accessAllowed ? 'block' : 'none';\n",
              "\n",
              "        async function convertToInteractive(key) {\n",
              "          const element = document.querySelector('#df-ed7c5876-9558-4474-8a0e-47f8f2613876');\n",
              "          const dataTable =\n",
              "            await google.colab.kernel.invokeFunction('convertToInteractive',\n",
              "                                                     [key], {});\n",
              "          if (!dataTable) return;\n",
              "\n",
              "          const docLinkHtml = 'Like what you see? Visit the ' +\n",
              "            '<a target=\"_blank\" href=https://colab.research.google.com/notebooks/data_table.ipynb>data table notebook</a>'\n",
              "            + ' to learn more about interactive tables.';\n",
              "          element.innerHTML = '';\n",
              "          dataTable['output_type'] = 'display_data';\n",
              "          await google.colab.output.renderOutput(dataTable, element);\n",
              "          const docLink = document.createElement('div');\n",
              "          docLink.innerHTML = docLinkHtml;\n",
              "          element.appendChild(docLink);\n",
              "        }\n",
              "      </script>\n",
              "    </div>\n",
              "  </div>\n",
              "  "
            ]
          },
          "metadata": {},
          "execution_count": 14
        }
      ]
    },
    {
      "cell_type": "code",
      "source": [
        "# Sanity check - make sure that all bounding boxes are valid\n",
        "df_data_filtered['cancer_bbox'].apply(lambda x: len([bbox for bbox in x if is_bbox_valid(bbox)]) > 0).sum() == df_data_filtered.shape[0]"
      ],
      "metadata": {
        "id": "UOfdsxGx58pj",
        "colab": {
          "base_uri": "https://localhost:8080/"
        },
        "outputId": "bba71898-524a-49ee-a456-72865636675e"
      },
      "execution_count": 15,
      "outputs": [
        {
          "output_type": "execute_result",
          "data": {
            "text/plain": [
              "True"
            ]
          },
          "metadata": {},
          "execution_count": 15
        }
      ]
    },
    {
      "cell_type": "markdown",
      "source": [
        "#### Dataset Separation - Train / Validation / Test"
      ],
      "metadata": {
        "id": "hKFr3o1hYK8y"
      }
    },
    {
      "cell_type": "code",
      "source": [
        "# Let's split the data into train/val/test\n",
        "def split_data(df_data, split_ratio=0.8):\n",
        "  sum = 0\n",
        "  train_images = []\n",
        "\n",
        "  total_cancer_slices = df_data.groupby('liver_image').sum(\"has_cancer\")['has_cancer'].sum()\n",
        "  total_images = len(df_data.groupby('liver_image'))\n",
        "\n",
        "  for i, row in df_data.groupby('liver_image').sum(\"has_cancer\").iterrows():\n",
        "    sum += row['has_cancer']\n",
        "    train_images.append(i)\n",
        "    if sum/total_cancer_slices >= split_ratio:\n",
        "      break\n",
        "\n",
        "  print(f\"Got total {len(train_images)}/{total_images} images with total {sum}/{total_cancer_slices} slices for training\")\n",
        "  df_train = df_data[df_data['liver_image'].isin(train_images) & df_data['has_cancer'] == True]\n",
        "  df_test = df_data[~df_data['liver_image'].isin(train_images) & df_data['has_cancer'] == True]\n",
        "  return df_train, df_test"
      ],
      "metadata": {
        "id": "JEYi8fahYc6C"
      },
      "execution_count": 16,
      "outputs": []
    },
    {
      "cell_type": "code",
      "source": [
        "# Split the data to 80% train and 20% test\n",
        "df_train, df_test = split_data(df_data_filtered)\n",
        "df_train.shape, df_test.shape"
      ],
      "metadata": {
        "id": "7JxadFSlYhDa",
        "colab": {
          "base_uri": "https://localhost:8080/"
        },
        "outputId": "a1c81987-8999-4f06-aad6-d4422e2556d7"
      },
      "execution_count": 17,
      "outputs": [
        {
          "output_type": "stream",
          "name": "stdout",
          "text": [
            "Got total 105/118 images with total 5718/7137 slices for training\n"
          ]
        },
        {
          "output_type": "execute_result",
          "data": {
            "text/plain": [
              "((5718, 6), (1419, 6))"
            ]
          },
          "metadata": {},
          "execution_count": 17
        }
      ]
    },
    {
      "cell_type": "code",
      "source": [
        "# Split the train samples to 80% train and 20% validation\n",
        "df_train_train, df_val = split_data(df_train)\n",
        "df_train_train.shape, df_val.shape"
      ],
      "metadata": {
        "id": "E0rwnIRyYltV",
        "colab": {
          "base_uri": "https://localhost:8080/"
        },
        "outputId": "fdce5ae3-fd83-4698-de49-42dbd59015d3"
      },
      "execution_count": 18,
      "outputs": [
        {
          "output_type": "stream",
          "name": "stdout",
          "text": [
            "Got total 67/105 images with total 4584/5718 slices for training\n"
          ]
        },
        {
          "output_type": "execute_result",
          "data": {
            "text/plain": [
              "((4584, 6), (1134, 6))"
            ]
          },
          "metadata": {},
          "execution_count": 18
        }
      ]
    },
    {
      "cell_type": "markdown",
      "source": [
        "#### Liver Slices Dataset"
      ],
      "metadata": {
        "id": "2yKA4W29ZNb4"
      }
    },
    {
      "cell_type": "code",
      "source": [
        "class LiverDataset(Dataset):\n",
        "    def __init__(self, df_slices, normalize=False):\n",
        "        self.normalize = normalize\n",
        "\n",
        "        # Filter out only those slices with liver\n",
        "        self.liver_slices = [LiverSlice(**s) for _, s in df_slices.iterrows() if s['has_cancer']]\n",
        "        self.cache: Dict[str, np.ndarray] = {}\n",
        "\n",
        "    def __len__(self):\n",
        "        return len(self.liver_slices)\n",
        "\n",
        "    def __getitem__(self, idx: int):\n",
        "      liver_slice: LiverSlice = self.liver_slices[idx]\n",
        "\n",
        "      liver_image_name = liver_slice.liver_image.split(\"/\")[-1]\n",
        "\n",
        "      liver_image = self.cache.get(liver_image_name)\n",
        "\n",
        "      if liver_image is None:\n",
        "        liver_image = get_image_data(liver_slice.liver_image)\n",
        "        self.cache[liver_image_name] = liver_image\n",
        "\n",
        "      liver_slice_image = liver_image[:, :, liver_slice.slice_number]\n",
        "\n",
        "      cancer_bbox = torch.as_tensor(liver_slice.cancer_bbox).type(torch.FloatTensor)\n",
        "\n",
        "      to_tensor = torchvision.transforms.ToTensor()\n",
        "\n",
        "      liver_slice_image = to_tensor(liver_slice_image).type(torch.FloatTensor)\n",
        "\n",
        "      if self.normalize:\n",
        "        mean, std = liver_slice_image.mean(), liver_slice_image.std()\n",
        "        normalize = transforms.Normalize(mean=[mean], std=[std])\n",
        "        liver_slice_image = normalize(liver_slice_image)\n",
        "\n",
        "      target = dict (\n",
        "          boxes = cancer_bbox,\n",
        "          labels = torch.tensor([1]*len(liver_slice.cancer_bbox)).type(torch.LongTensor)\n",
        "      )\n",
        "\n",
        "      return liver_slice_image, target"
      ],
      "metadata": {
        "id": "Ly9nLRPHi7Ih"
      },
      "execution_count": 19,
      "outputs": []
    },
    {
      "cell_type": "markdown",
      "source": [
        "## Define Datasets"
      ],
      "metadata": {
        "id": "M3EMnPRBWwtT"
      }
    },
    {
      "cell_type": "code",
      "source": [
        "def collate_fn(batch):\n",
        "    return tuple(zip(*batch))\n",
        "\n",
        "BATCH_SIZE = 4\n",
        "train_dataset = LiverDataset(df_train_train)\n",
        "train_data_loader = DataLoader(train_dataset, batch_size=BATCH_SIZE, collate_fn=collate_fn)\n",
        "\n",
        "norm_train_dataset = LiverDataset(df_train_train, normalize=True)\n",
        "norm_train_data_loader = DataLoader(norm_train_dataset, batch_size=BATCH_SIZE, collate_fn=collate_fn)\n",
        "\n",
        "val_dataset = LiverDataset(df_val)\n",
        "val_data_loader = DataLoader(val_dataset, batch_size=BATCH_SIZE, collate_fn=collate_fn)\n",
        "\n",
        "norm_val_dataset = LiverDataset(df_val, normalize=True)\n",
        "norm_val_data_loader = DataLoader(norm_val_dataset, batch_size=BATCH_SIZE, collate_fn=collate_fn)\n",
        "\n",
        "test_dataset = LiverDataset(df_test)\n",
        "test_data_loader = DataLoader(test_dataset, batch_size=BATCH_SIZE, collate_fn=collate_fn)\n",
        "\n",
        "norm_test_dataset = LiverDataset(df_test, normalize=True)\n",
        "norm_test_data_loader = DataLoader(norm_test_dataset, batch_size=BATCH_SIZE, collate_fn=collate_fn)"
      ],
      "metadata": {
        "id": "ycoGNxDXjExQ"
      },
      "execution_count": 20,
      "outputs": []
    },
    {
      "cell_type": "code",
      "source": [
        "def format_time(elapsed):\n",
        "    # Format as hh:mm:ss\n",
        "    return str(datetime.timedelta(seconds=int(round((elapsed)))))"
      ],
      "metadata": {
        "id": "RFfd3ri_HVYu"
      },
      "execution_count": 21,
      "outputs": []
    },
    {
      "cell_type": "markdown",
      "source": [
        "# Evaluation Metrics"
      ],
      "metadata": {
        "id": "XNN6tcxw6ezm"
      }
    },
    {
      "cell_type": "code",
      "source": [
        "TP = 'TruePositive'\n",
        "TN = 'TrueNegative'\n",
        "FP = 'FalsePositive'\n",
        "FN = 'FalseNegative'"
      ],
      "metadata": {
        "id": "oGivooGDOkSy"
      },
      "execution_count": 22,
      "outputs": []
    },
    {
      "cell_type": "code",
      "source": [
        "def evaluate_single_image_predictions(true_boxes, pred_boxes, iou_threshold=0.5):\n",
        "  # Initialize labels\n",
        "  pred_labels = [FP] * len(pred_boxes)\n",
        "  true_labels = [FN] * len(true_boxes)\n",
        "\n",
        "  if (len(pred_boxes) == 0):\n",
        "    return [], true_labels\n",
        "\n",
        "  if (len(true_boxes) == 0):\n",
        "    return pred_labels, []\n",
        "\n",
        "  # Calculate the IoU matrix\n",
        "  iou_matrix = box_iou(true_boxes, pred_boxes)\n",
        "\n",
        "  for i, j in enumerate(torch.argmax(iou_matrix, dim=1)):\n",
        "    if iou_matrix[i, j] > iou_threshold:\n",
        "      pred_labels[j] = TP\n",
        "      true_labels[i] = TP\n",
        "\n",
        "  return pred_labels, true_labels\n",
        "\n",
        "\n",
        "def get_scores(dataset, y_pred, iou_threshold=0.5):\n",
        "  all_pred_labels = []\n",
        "  all_true_labels = []\n",
        "\n",
        "  for i, (image, target) in enumerate(dataset):\n",
        "    pred_labels, true_labels = evaluate_single_image_predictions(target['boxes'], y_pred[i]['boxes'], iou_threshold)\n",
        "    all_pred_labels += pred_labels\n",
        "    all_true_labels += true_labels\n",
        "\n",
        "\n",
        "  fn = len(np.where(np.array(all_true_labels) == FN)[0]) # exists only in the Groung Truth\n",
        "  fp = len(np.where(np.array(all_pred_labels) == FP)[0])\n",
        "  tp = len(np.where(np.array(all_pred_labels) == TP)[0])\n",
        "\n",
        "  precision = 1\n",
        "  recall = 0\n",
        "  f1 = 0\n",
        "\n",
        "  if tp > 0:\n",
        "    precision = tp / (tp + fp)\n",
        "    recall = tp / (tp + fn)\n",
        "    f1 = 2 * (precision * recall) / (precision + recall)\n",
        "\n",
        "  return precision, recall, f1\n",
        "\n",
        "\n",
        "def percision_recall_roc_curve(dataset, preds_scores, thresholds=None, to_plot=True):\n",
        "  if thresholds is None:\n",
        "    thresholds = [0.9, 0.8, 0.7, 0.6, 0.5, 0.4, 0.3, 0.2, 0.1]\n",
        "\n",
        "  precision_list = []\n",
        "  recall_list = []\n",
        "\n",
        "  for threshold in thresholds:\n",
        "    preds = classify_by_threshold(preds_scores, th=threshold)\n",
        "    # Calculate Precision and Recall\n",
        "    precision, recall, f1 = get_scores(dataset, preds)\n",
        "\n",
        "    precision_list.append(precision)\n",
        "    recall_list.append(recall)\n",
        "\n",
        "  if to_plot:\n",
        "    # Plot the Precision-Recall curve\n",
        "    plt.plot(recall_list, precision_list)\n",
        "    plt.xlabel('Recall')\n",
        "    plt.ylabel('Precision')\n",
        "    plt.show()\n",
        "\n",
        "  return precision_list, recall_list"
      ],
      "metadata": {
        "id": "P9jFKA9i6c5g"
      },
      "execution_count": null,
      "outputs": []
    },
    {
      "cell_type": "code",
      "source": [
        "def mAP(data_loader, preds):\n",
        "  mean_ap = MeanAveragePrecision(num_classes=2, iou_threshold=0.5)\n",
        "  for i, (images, targets) in enumerate(data_loader):\n",
        "    start_index = i * BATCH_SIZE\n",
        "    end_index = start_index + BATCH_SIZE\n",
        "    batch_preds = preds[start_index: end_index]\n",
        "\n",
        "    mean_ap.update(batch_preds, targets)\n",
        "\n",
        "  score = mean_ap.compute()\n",
        "  return score"
      ],
      "metadata": {
        "id": "nJlibYyGppIr"
      },
      "execution_count": null,
      "outputs": []
    },
    {
      "cell_type": "code",
      "source": [
        "def classify_by_threshold(preds, th=0.5):\n",
        "  c_preds = preds.copy()\n",
        "\n",
        "  for id in range(len(c_preds)) :\n",
        "    idx_list = []\n",
        "\n",
        "    for idx, score in enumerate(c_preds[id]['scores']) :\n",
        "      if score > th : #select idx which meets the threshold\n",
        "        idx_list.append(idx)\n",
        "\n",
        "    c_preds[id] = dict(\n",
        "        boxes = c_preds[id]['boxes'][idx_list],\n",
        "        scores = c_preds[id]['scores'][idx_list],\n",
        "        labels = c_preds[id]['labels'][idx_list],\n",
        "    )\n",
        "\n",
        "  return c_preds"
      ],
      "metadata": {
        "id": "0Zxp08sHwf3l"
      },
      "execution_count": null,
      "outputs": []
    },
    {
      "cell_type": "markdown",
      "source": [
        "# RetinaNet Evaluator"
      ],
      "metadata": {
        "id": "xLdS0r6oHaR2"
      }
    },
    {
      "cell_type": "code",
      "source": [
        "class RetinaNetModel:\n",
        "\n",
        "  def __init__(self):\n",
        "    self.model = retinanet_resnet50_fpn_v2(num_classes = 2, pretrained=False, pretrained_backbone = True)\n",
        "    self.optimizer = None\n",
        "    self.model.to(device)\n",
        "\n",
        "\n",
        "  def load_trained_model(self, file_name):\n",
        "    self.model.load_state_dict(torch.load(f'{PROJ_DIR_PATH}/{file_name}'))\n",
        "\n",
        "\n",
        "  def _predict_scores(self, data_loader):\n",
        "    # clear the cache\n",
        "    torch.cuda.empty_cache()\n",
        "    # Check the model on the validation set\n",
        "    self.model.eval()\n",
        "    preds_all = []\n",
        "    for images, targets in tqdm(data_loader):\n",
        "      images = [image.to(device) for image in images]\n",
        "\n",
        "      with torch.no_grad():\n",
        "        preds = self.model(images)\n",
        "\n",
        "      preds_all += preds\n",
        "    return preds_all\n",
        "\n",
        "\n",
        "  def _apply_non_maximum_surpression(self, preds, iou_threshold=0.5): # mayb to change func name to post_process\n",
        "    \"\"\"\n",
        "      Considering all the multiple predictions with IoU > iou_threshold in the given image slice.\n",
        "      Keep only the predictions with the hieghes score (between them).\n",
        "\n",
        "      AND\n",
        "\n",
        "      change pred object to cpu device\n",
        "    \"\"\"\n",
        "    nms_preds = preds.copy()\n",
        "\n",
        "    def _apply_nms_on_single_image(pred_i, iou_threshold):\n",
        "      boxes = pred_i['boxes'].to(torch.device('cpu'))\n",
        "      scores = pred_i['scores'].to(torch.device('cpu'))\n",
        "      labels = pred_i['labels'].to(torch.device('cpu'))\n",
        "\n",
        "      # Use torchvision's built-in NMS function\n",
        "      keep_indices = torchvision.ops.nms(boxes, scores, iou_threshold)\n",
        "\n",
        "      # Update predictions to only include non-suppressed boxes and scores\n",
        "      pred_i['boxes'] = boxes[keep_indices]\n",
        "      pred_i['scores'] = scores[keep_indices]\n",
        "      pred_i['labels'] = labels[keep_indices]\n",
        "\n",
        "      return pred_i\n",
        "\n",
        "\n",
        "    for i, pred_i in enumerate(nms_preds):\n",
        "      nms_preds[i] = _apply_nms_on_single_image(pred_i, iou_threshold)\n",
        "\n",
        "    return nms_preds\n"
      ],
      "metadata": {
        "id": "AxplPSExFR5u"
      },
      "execution_count": null,
      "outputs": []
    },
    {
      "cell_type": "markdown",
      "source": [
        "# Models"
      ],
      "metadata": {
        "id": "bNqeovruCDii"
      }
    },
    {
      "cell_type": "markdown",
      "source": [
        "# Retina 1 - first try"
      ],
      "metadata": {
        "id": "1BWvdhpH32vg"
      }
    },
    {
      "cell_type": "code",
      "source": [
        "retinaNet1 = RetinaNetModel()"
      ],
      "metadata": {
        "colab": {
          "base_uri": "https://localhost:8080/"
        },
        "id": "xelw9LlRkVvI",
        "outputId": "d4bd0d7a-ba5f-4677-f8be-9fefd593ccbc"
      },
      "execution_count": null,
      "outputs": [
        {
          "output_type": "stream",
          "name": "stderr",
          "text": [
            "/usr/local/lib/python3.10/dist-packages/torchvision/models/_utils.py:208: UserWarning: The parameter 'pretrained' is deprecated since 0.13 and may be removed in the future, please use 'weights' instead.\n",
            "  warnings.warn(\n",
            "/usr/local/lib/python3.10/dist-packages/torchvision/models/_utils.py:223: UserWarning: Arguments other than a weight enum or `None` for 'weights' are deprecated since 0.13 and may be removed in the future. The current behavior is equivalent to passing `weights=None`.\n",
            "  warnings.warn(msg)\n",
            "/usr/local/lib/python3.10/dist-packages/torchvision/models/_utils.py:208: UserWarning: The parameter 'pretrained_backbone' is deprecated since 0.13 and may be removed in the future, please use 'weights_backbone' instead.\n",
            "  warnings.warn(\n",
            "/usr/local/lib/python3.10/dist-packages/torchvision/models/_utils.py:223: UserWarning: Arguments other than a weight enum or `None` for 'weights_backbone' are deprecated since 0.13 and may be removed in the future. The current behavior is equivalent to passing `weights_backbone=ResNet50_Weights.IMAGENET1K_V1`. You can also use `weights_backbone=ResNet50_Weights.DEFAULT` to get the most up-to-date weights.\n",
            "  warnings.warn(msg)\n"
          ]
        }
      ]
    },
    {
      "cell_type": "code",
      "source": [
        "retinaNet1.load_trained_model('retina_very_old.pt')\n",
        "# retina.train()"
      ],
      "metadata": {
        "id": "a1sZ_tF14Kbd"
      },
      "execution_count": null,
      "outputs": []
    },
    {
      "cell_type": "markdown",
      "source": [
        "### Validation"
      ],
      "metadata": {
        "id": "qKpoJn-y7nGq"
      }
    },
    {
      "cell_type": "code",
      "source": [
        "val_preds_scores1 = retinaNet1._predict_scores(val_data_loader)\n",
        "val_nms_preds_scores1 = retinaNet1._apply_non_maximum_surpression(val_preds_scores1)"
      ],
      "metadata": {
        "colab": {
          "base_uri": "https://localhost:8080/"
        },
        "id": "Wd0TO4-k71Fa",
        "outputId": "fa1826d0-1f4b-4390-f947-7ed2322a2f78"
      },
      "execution_count": null,
      "outputs": [
        {
          "output_type": "stream",
          "name": "stderr",
          "text": [
            "100%|██████████| 284/284 [02:40<00:00,  1.76it/s]\n"
          ]
        }
      ]
    },
    {
      "cell_type": "code",
      "source": [
        "val_score1 = mAP(val_data_loader, val_nms_preds_scores1)\n",
        "pprint(val_score1)"
      ],
      "metadata": {
        "colab": {
          "base_uri": "https://localhost:8080/"
        },
        "id": "MJcWNGWN7iQP",
        "outputId": "a80c3688-128b-4f07-822d-5f75ade70102"
      },
      "execution_count": null,
      "outputs": [
        {
          "output_type": "stream",
          "name": "stdout",
          "text": [
            "{'map': tensor(0.0670),\n",
            " 'map_50': tensor(0.2402),\n",
            " 'map_75': tensor(0.0078),\n",
            " 'map_large': tensor(0.0347),\n",
            " 'map_medium': tensor(0.0848),\n",
            " 'map_per_class': tensor(-1.),\n",
            " 'map_small': tensor(0.0678),\n",
            " 'mar_1': tensor(0.0940),\n",
            " 'mar_10': tensor(0.2045),\n",
            " 'mar_100': tensor(0.2629),\n",
            " 'mar_100_per_class': tensor(-1.),\n",
            " 'mar_large': tensor(0.2767),\n",
            " 'mar_medium': tensor(0.3266),\n",
            " 'mar_small': tensor(0.2286)}\n"
          ]
        }
      ]
    },
    {
      "cell_type": "code",
      "source": [
        "val_precision_list1, val_recall_list1 = percision_recall_roc_curve(val_dataset, val_nms_preds_scores1)"
      ],
      "metadata": {
        "colab": {
          "base_uri": "https://localhost:8080/",
          "height": 540
        },
        "id": "e3Jag3Yn7rpq",
        "outputId": "ac0e293f-dae8-4053-b8d4-859ae75fa052"
      },
      "execution_count": null,
      "outputs": [
        {
          "output_type": "stream",
          "name": "stderr",
          "text": [
            "<ipython-input-40-f86582829b14>:34: FutureWarning: elementwise comparison failed; returning scalar instead, but in the future will perform elementwise comparison\n",
            "  fp = len(np.where(np.array(all_pred_labels) == FP)[0])\n",
            "<ipython-input-40-f86582829b14>:35: FutureWarning: elementwise comparison failed; returning scalar instead, but in the future will perform elementwise comparison\n",
            "  tp = len(np.where(np.array(all_pred_labels) == TP)[0])\n"
          ]
        },
        {
          "output_type": "display_data",
          "data": {
            "text/plain": [
              "<Figure size 640x480 with 1 Axes>"
            ],
            "image/png": "[encoded data removed]"
          },
          "metadata": {}
        }
      ]
    },
    {
      "cell_type": "markdown",
      "source": [
        "#### Test"
      ],
      "metadata": {
        "id": "688DoX1i74ZP"
      }
    },
    {
      "cell_type": "code",
      "source": [
        "test_preds_scores1 = retinaNet1._predict_scores(test_data_loader)\n",
        "test_nms_preds_scores1 = retinaNet1._apply_non_maximum_surpression(test_preds_scores1)"
      ],
      "metadata": {
        "colab": {
          "base_uri": "https://localhost:8080/"
        },
        "id": "uq7ctEPG4LVI",
        "outputId": "0cbd0c69-9568-4836-96a9-fefdb1212671"
      },
      "execution_count": null,
      "outputs": [
        {
          "output_type": "stream",
          "name": "stderr",
          "text": [
            "100%|██████████| 355/355 [03:05<00:00,  1.91it/s]\n"
          ]
        }
      ]
    },
    {
      "cell_type": "code",
      "source": [
        "test_score1 = mAP(test_data_loader, test_nms_preds_scores1)\n",
        "pprint(test_score1)"
      ],
      "metadata": {
        "colab": {
          "base_uri": "https://localhost:8080/"
        },
        "id": "vZ9WtfXf5eC-",
        "outputId": "3c9392dc-f171-459f-a838-00f7b1c9a0cd"
      },
      "execution_count": null,
      "outputs": [
        {
          "output_type": "stream",
          "name": "stdout",
          "text": [
            "{'map': tensor(0.0416),\n",
            " 'map_50': tensor(0.1542),\n",
            " 'map_75': tensor(0.0048),\n",
            " 'map_large': tensor(0.1428),\n",
            " 'map_medium': tensor(0.0709),\n",
            " 'map_per_class': tensor(-1.),\n",
            " 'map_small': tensor(0.0340),\n",
            " 'mar_1': tensor(0.0429),\n",
            " 'mar_10': tensor(0.1468),\n",
            " 'mar_100': tensor(0.2180),\n",
            " 'mar_100_per_class': tensor(-1.),\n",
            " 'mar_large': tensor(0.4474),\n",
            " 'mar_medium': tensor(0.3394),\n",
            " 'mar_small': tensor(0.1733)}\n"
          ]
        }
      ]
    },
    {
      "cell_type": "code",
      "source": [
        "test_precision_list1, test_recall_list1 = percision_recall_roc_curve(test_dataset, test_nms_preds_scores1)"
      ],
      "metadata": {
        "colab": {
          "base_uri": "https://localhost:8080/",
          "height": 540
        },
        "id": "CcLavHNi55vV",
        "outputId": "a4f356c9-f011-4b73-8657-30d41c3dd360"
      },
      "execution_count": null,
      "outputs": [
        {
          "output_type": "stream",
          "name": "stderr",
          "text": [
            "<ipython-input-40-f86582829b14>:34: FutureWarning: elementwise comparison failed; returning scalar instead, but in the future will perform elementwise comparison\n",
            "  fp = len(np.where(np.array(all_pred_labels) == FP)[0])\n",
            "<ipython-input-40-f86582829b14>:35: FutureWarning: elementwise comparison failed; returning scalar instead, but in the future will perform elementwise comparison\n",
            "  tp = len(np.where(np.array(all_pred_labels) == TP)[0])\n"
          ]
        },
        {
          "output_type": "display_data",
          "data": {
            "text/plain": [
              "<Figure size 640x480 with 1 Axes>"
            ],
            "image/png": "[encoded data removed]"
          },
          "metadata": {}
        }
      ]
    },
    {
      "cell_type": "markdown",
      "source": [
        "# Retina 2 - fine tuning on UN-Normalized dataset"
      ],
      "metadata": {
        "id": "ZWb3B8Tw6tdf"
      }
    },
    {
      "cell_type": "code",
      "source": [
        "retinaNet2 = RetinaNetModel()"
      ],
      "metadata": {
        "colab": {
          "base_uri": "https://localhost:8080/"
        },
        "id": "5mr0LqOg7Oka",
        "outputId": "07261405-ac08-463f-a3d9-08d099b1b322"
      },
      "execution_count": null,
      "outputs": [
        {
          "output_type": "stream",
          "name": "stderr",
          "text": [
            "/usr/local/lib/python3.10/dist-packages/torchvision/models/_utils.py:208: UserWarning: The parameter 'pretrained' is deprecated since 0.13 and may be removed in the future, please use 'weights' instead.\n",
            "  warnings.warn(\n",
            "/usr/local/lib/python3.10/dist-packages/torchvision/models/_utils.py:223: UserWarning: Arguments other than a weight enum or `None` for 'weights' are deprecated since 0.13 and may be removed in the future. The current behavior is equivalent to passing `weights=None`.\n",
            "  warnings.warn(msg)\n",
            "/usr/local/lib/python3.10/dist-packages/torchvision/models/_utils.py:208: UserWarning: The parameter 'pretrained_backbone' is deprecated since 0.13 and may be removed in the future, please use 'weights_backbone' instead.\n",
            "  warnings.warn(\n",
            "/usr/local/lib/python3.10/dist-packages/torchvision/models/_utils.py:223: UserWarning: Arguments other than a weight enum or `None` for 'weights_backbone' are deprecated since 0.13 and may be removed in the future. The current behavior is equivalent to passing `weights_backbone=ResNet50_Weights.IMAGENET1K_V1`. You can also use `weights_backbone=ResNet50_Weights.DEFAULT` to get the most up-to-date weights.\n",
            "  warnings.warn(msg)\n"
          ]
        }
      ]
    },
    {
      "cell_type": "code",
      "source": [
        "retinaNet2.load_trained_model('retina_old.pt')\n",
        "# retina.train()"
      ],
      "metadata": {
        "id": "R2lu-WWC7e8p"
      },
      "execution_count": null,
      "outputs": []
    },
    {
      "cell_type": "markdown",
      "source": [
        "#### Validation"
      ],
      "metadata": {
        "id": "9Tp9M8Pq9JVN"
      }
    },
    {
      "cell_type": "code",
      "source": [
        "val_preds_scores2 = retinaNet2._predict_scores(val_data_loader)\n",
        "val_nms_preds_scores2 = retinaNet2._apply_non_maximum_surpression(val_preds_scores2)"
      ],
      "metadata": {
        "colab": {
          "base_uri": "https://localhost:8080/"
        },
        "id": "TFiRVAT29K_R",
        "outputId": "abe93cde-d8d8-470c-9115-ac066b224f7a"
      },
      "execution_count": null,
      "outputs": [
        {
          "output_type": "stream",
          "name": "stderr",
          "text": [
            "100%|██████████| 284/284 [04:08<00:00,  1.14it/s]\n"
          ]
        }
      ]
    },
    {
      "cell_type": "code",
      "source": [
        "val_score2 = mAP(val_data_loader, val_nms_preds_scores2)\n",
        "pprint(val_score2)"
      ],
      "metadata": {
        "colab": {
          "base_uri": "https://localhost:8080/"
        },
        "id": "oeiS5dbQ9RUh",
        "outputId": "cf2b9348-d8e6-444b-8381-0e36ffa0ae5c"
      },
      "execution_count": null,
      "outputs": [
        {
          "output_type": "stream",
          "name": "stdout",
          "text": [
            "{'map': tensor(0.2266),\n",
            " 'map_50': tensor(0.4745),\n",
            " 'map_75': tensor(0.1904),\n",
            " 'map_large': tensor(0.5479),\n",
            " 'map_medium': tensor(0.3199),\n",
            " 'map_per_class': tensor(-1.),\n",
            " 'map_small': tensor(0.1370),\n",
            " 'mar_1': tensor(0.2211),\n",
            " 'mar_10': tensor(0.2897),\n",
            " 'mar_100': tensor(0.3026),\n",
            " 'mar_100_per_class': tensor(-1.),\n",
            " 'mar_large': tensor(0.5977),\n",
            " 'mar_medium': tensor(0.4075),\n",
            " 'mar_small': tensor(0.2355)}\n"
          ]
        }
      ]
    },
    {
      "cell_type": "code",
      "source": [
        "val_precision_list2, val_recall_list2 = percision_recall_roc_curve(val_dataset, val_nms_preds_scores2)"
      ],
      "metadata": {
        "colab": {
          "base_uri": "https://localhost:8080/",
          "height": 449
        },
        "id": "He_1qHW29SQG",
        "outputId": "d1af51f5-8db9-4f94-8896-5fc4a0cd23bc"
      },
      "execution_count": null,
      "outputs": [
        {
          "output_type": "display_data",
          "data": {
            "text/plain": [
              "<Figure size 640x480 with 1 Axes>"
            ],
            "image/png": "[encoded data removed]"
          },
          "metadata": {}
        }
      ]
    },
    {
      "cell_type": "markdown",
      "source": [
        "#### Test"
      ],
      "metadata": {
        "id": "13kXpcib821T"
      }
    },
    {
      "cell_type": "code",
      "source": [
        "test_preds_scores2 = retinaNet2._predict_scores(test_data_loader)\n",
        "test_nms_preds_scores2 = retinaNet2._apply_non_maximum_surpression(test_preds_scores2)"
      ],
      "metadata": {
        "colab": {
          "base_uri": "https://localhost:8080/"
        },
        "id": "UpVGSJ5c7dRp",
        "outputId": "3764121b-e6c2-4e84-8e98-7d7176040034"
      },
      "execution_count": null,
      "outputs": [
        {
          "output_type": "stream",
          "name": "stderr",
          "text": [
            "100%|██████████| 355/355 [02:52<00:00,  2.06it/s]\n"
          ]
        }
      ]
    },
    {
      "cell_type": "code",
      "source": [
        "test_score2 = mAP(test_data_loader, test_nms_preds_scores2)\n",
        "pprint(test_score2)"
      ],
      "metadata": {
        "colab": {
          "base_uri": "https://localhost:8080/"
        },
        "id": "6Ofugd0N9BkK",
        "outputId": "8c9363cc-884c-4198-f5ab-080237627253"
      },
      "execution_count": null,
      "outputs": [
        {
          "output_type": "stream",
          "name": "stdout",
          "text": [
            "{'map': tensor(0.1962),\n",
            " 'map_50': tensor(0.4463),\n",
            " 'map_75': tensor(0.1485),\n",
            " 'map_large': tensor(0.3800),\n",
            " 'map_medium': tensor(0.3444),\n",
            " 'map_per_class': tensor(-1.),\n",
            " 'map_small': tensor(0.1198),\n",
            " 'mar_1': tensor(0.1199),\n",
            " 'mar_10': tensor(0.2662),\n",
            " 'mar_100': tensor(0.2870),\n",
            " 'mar_100_per_class': tensor(-1.),\n",
            " 'mar_large': tensor(0.4184),\n",
            " 'mar_medium': tensor(0.5158),\n",
            " 'mar_small': tensor(0.2070)}\n"
          ]
        }
      ]
    },
    {
      "cell_type": "code",
      "source": [
        "test_precision_list2, test_recall_list2 = percision_recall_roc_curve(test_dataset, test_nms_preds_scores2)"
      ],
      "metadata": {
        "colab": {
          "base_uri": "https://localhost:8080/",
          "height": 449
        },
        "id": "yxAbS7WB9Ai0",
        "outputId": "dab913e6-76cd-402a-8fa7-3a797ca84b30"
      },
      "execution_count": null,
      "outputs": [
        {
          "output_type": "display_data",
          "data": {
            "text/plain": [
              "<Figure size 640x480 with 1 Axes>"
            ],
            "image/png": "[encoded data removed]"
          },
          "metadata": {}
        }
      ]
    },
    {
      "cell_type": "markdown",
      "source": [
        "# Retina 3 - Augmneted data\n",
        "\n",
        "Filp, translate, rotate"
      ],
      "metadata": {
        "id": "nrbf2_G-6wMs"
      }
    },
    {
      "cell_type": "code",
      "source": [
        "retinaNet3 = RetinaNetModel()"
      ],
      "metadata": {
        "id": "f9TLLiT_9pO-"
      },
      "execution_count": null,
      "outputs": []
    },
    {
      "cell_type": "code",
      "source": [
        "retinaNet3.load_trained_model('retina.pt')"
      ],
      "metadata": {
        "id": "LelVL7Tw9rz5"
      },
      "execution_count": null,
      "outputs": []
    },
    {
      "cell_type": "markdown",
      "source": [
        "#### Validation"
      ],
      "metadata": {
        "id": "sf3gLnmW94sq"
      }
    },
    {
      "cell_type": "code",
      "source": [
        "val_preds_scores3 = retinaNet3._predict_scores(norm_val_data_loader)\n",
        "val_nms_preds_scores3 = retinaNet3._apply_non_maximum_surpression(val_preds_scores3)"
      ],
      "metadata": {
        "colab": {
          "base_uri": "https://localhost:8080/"
        },
        "id": "mUXAx-2W-CQM",
        "outputId": "3db15f72-8ec2-4699-fb14-894b41bbfd83"
      },
      "execution_count": null,
      "outputs": [
        {
          "output_type": "stream",
          "name": "stderr",
          "text": [
            "100%|██████████| 284/284 [01:24<00:00,  3.38it/s]\n"
          ]
        }
      ]
    },
    {
      "cell_type": "code",
      "source": [
        "val_score3 = mAP(norm_val_data_loader, val_nms_preds_scores3)\n",
        "pprint(val_score3)"
      ],
      "metadata": {
        "colab": {
          "base_uri": "https://localhost:8080/"
        },
        "id": "dmx96tdM-B7c",
        "outputId": "513f2b82-c089-48a9-cbd0-f88205c7b5b5"
      },
      "execution_count": null,
      "outputs": [
        {
          "output_type": "stream",
          "name": "stdout",
          "text": [
            "{'map': tensor(0.1920),\n",
            " 'map_50': tensor(0.4217),\n",
            " 'map_75': tensor(0.1348),\n",
            " 'map_large': tensor(0.3628),\n",
            " 'map_medium': tensor(0.2568),\n",
            " 'map_per_class': tensor(-1.),\n",
            " 'map_small': tensor(0.1377),\n",
            " 'mar_1': tensor(0.1985),\n",
            " 'mar_10': tensor(0.2925),\n",
            " 'mar_100': tensor(0.3265),\n",
            " 'mar_100_per_class': tensor(-1.),\n",
            " 'mar_large': tensor(0.4907),\n",
            " 'mar_medium': tensor(0.4171),\n",
            " 'mar_small': tensor(0.2718)}\n"
          ]
        }
      ]
    },
    {
      "cell_type": "code",
      "source": [
        "val_precision_list3, val_recall_list3 = percision_recall_roc_curve(norm_val_dataset, val_nms_preds_scores3)"
      ],
      "metadata": {
        "colab": {
          "base_uri": "https://localhost:8080/",
          "height": 449
        },
        "id": "nlAyw7Ow96Wb",
        "outputId": "b1d53d14-261f-440b-e345-2c7520953e44"
      },
      "execution_count": null,
      "outputs": [
        {
          "output_type": "display_data",
          "data": {
            "text/plain": [
              "<Figure size 640x480 with 1 Axes>"
            ],
            "image/png": "[encoded data removed]"
          },
          "metadata": {}
        }
      ]
    },
    {
      "cell_type": "markdown",
      "source": [
        "#### Test"
      ],
      "metadata": {
        "id": "atDXmpSz93Hm"
      }
    },
    {
      "cell_type": "code",
      "source": [
        "test_preds_scores3 = retinaNet3._predict_scores(norm_test_data_loader)\n",
        "test_nms_preds_scores3 = retinaNet3._apply_non_maximum_surpression(test_preds_scores3)"
      ],
      "metadata": {
        "colab": {
          "base_uri": "https://localhost:8080/"
        },
        "id": "jO_NIqud6tSP",
        "outputId": "d1480a26-7634-4fa1-de62-96d8ce02ef9a"
      },
      "execution_count": null,
      "outputs": [
        {
          "output_type": "stream",
          "name": "stderr",
          "text": [
            "100%|██████████| 355/355 [02:56<00:00,  2.01it/s]\n"
          ]
        }
      ]
    },
    {
      "cell_type": "code",
      "source": [
        "test_score3 = mAP(norm_test_data_loader, test_nms_preds_scores3)\n",
        "pprint(test_score3)"
      ],
      "metadata": {
        "colab": {
          "base_uri": "https://localhost:8080/"
        },
        "id": "PNY0p1Mq9jOy",
        "outputId": "6d18a606-dcbd-4cba-e469-5c5f1c16a3f5"
      },
      "execution_count": null,
      "outputs": [
        {
          "output_type": "stream",
          "name": "stdout",
          "text": [
            "{'map': tensor(0.1578),\n",
            " 'map_50': tensor(0.3944),\n",
            " 'map_75': tensor(0.0905),\n",
            " 'map_large': tensor(0.6053),\n",
            " 'map_medium': tensor(0.2739),\n",
            " 'map_per_class': tensor(-1.),\n",
            " 'map_small': tensor(0.1042),\n",
            " 'mar_1': tensor(0.0951),\n",
            " 'mar_10': tensor(0.2596),\n",
            " 'mar_100': tensor(0.3036),\n",
            " 'mar_100_per_class': tensor(-1.),\n",
            " 'mar_large': tensor(0.6579),\n",
            " 'mar_medium': tensor(0.5004),\n",
            " 'mar_small': tensor(0.2312)}\n"
          ]
        }
      ]
    },
    {
      "cell_type": "code",
      "source": [
        "test_precision_list3, test_recall_list3 = percision_recall_roc_curve(norm_test_dataset, test_nms_preds_scores3)"
      ],
      "metadata": {
        "colab": {
          "base_uri": "https://localhost:8080/",
          "height": 449
        },
        "id": "ROhw_kbN9kcU",
        "outputId": "bcf40bbb-3d39-480c-85be-1f5f31bf87fa"
      },
      "execution_count": null,
      "outputs": [
        {
          "output_type": "display_data",
          "data": {
            "text/plain": [
              "<Figure size 640x480 with 1 Axes>"
            ],
            "image/png": "[encoded data removed]"
          },
          "metadata": {}
        }
      ]
    },
    {
      "cell_type": "markdown",
      "source": [
        "# Fined-tune Model - Selected Model\n",
        "####  Normalized data"
      ],
      "metadata": {
        "id": "E9hdHu_h857M"
      }
    },
    {
      "cell_type": "code",
      "source": [
        "retinaNet_best = RetinaNetModel()"
      ],
      "metadata": {
        "colab": {
          "base_uri": "https://localhost:8080/"
        },
        "id": "xiwdj13f8_yI",
        "outputId": "4cafc63b-dd8c-4e9c-89ff-223b5ee4c7a7"
      },
      "execution_count": null,
      "outputs": [
        {
          "output_type": "stream",
          "name": "stderr",
          "text": [
            "/usr/local/lib/python3.10/dist-packages/torchvision/models/_utils.py:208: UserWarning: The parameter 'pretrained' is deprecated since 0.13 and may be removed in the future, please use 'weights' instead.\n",
            "  warnings.warn(\n",
            "/usr/local/lib/python3.10/dist-packages/torchvision/models/_utils.py:223: UserWarning: Arguments other than a weight enum or `None` for 'weights' are deprecated since 0.13 and may be removed in the future. The current behavior is equivalent to passing `weights=None`.\n",
            "  warnings.warn(msg)\n",
            "/usr/local/lib/python3.10/dist-packages/torchvision/models/_utils.py:208: UserWarning: The parameter 'pretrained_backbone' is deprecated since 0.13 and may be removed in the future, please use 'weights_backbone' instead.\n",
            "  warnings.warn(\n",
            "/usr/local/lib/python3.10/dist-packages/torchvision/models/_utils.py:223: UserWarning: Arguments other than a weight enum or `None` for 'weights_backbone' are deprecated since 0.13 and may be removed in the future. The current behavior is equivalent to passing `weights_backbone=ResNet50_Weights.IMAGENET1K_V1`. You can also use `weights_backbone=ResNet50_Weights.DEFAULT` to get the most up-to-date weights.\n",
            "  warnings.warn(msg)\n"
          ]
        }
      ]
    },
    {
      "cell_type": "code",
      "source": [
        "retinaNet_best.load_trained_model('retina_bs2_e5.pt')"
      ],
      "metadata": {
        "id": "SaR_QLyH89Q3"
      },
      "execution_count": null,
      "outputs": []
    },
    {
      "cell_type": "markdown",
      "source": [
        "#### Validation"
      ],
      "metadata": {
        "id": "-ESR-9sG9SdV"
      }
    },
    {
      "cell_type": "code",
      "source": [
        "val_preds_scores_best = retinaNet_best._predict_scores(norm_val_data_loader)\n",
        "val_nms_preds_scores_best = retinaNet_best._apply_non_maximum_surpression(val_preds_scores_best)"
      ],
      "metadata": {
        "colab": {
          "base_uri": "https://localhost:8080/"
        },
        "id": "QUPew3mT9PU2",
        "outputId": "517573d8-7ff3-41a3-aff4-60f8ae8b4170"
      },
      "execution_count": null,
      "outputs": [
        {
          "output_type": "stream",
          "name": "stderr",
          "text": [
            "100%|██████████| 284/284 [01:24<00:00,  3.35it/s]\n"
          ]
        }
      ]
    },
    {
      "cell_type": "code",
      "source": [
        "val_score_best = mAP(norm_val_data_loader, val_nms_preds_scores_best)\n",
        "pprint(val_score_best)"
      ],
      "metadata": {
        "colab": {
          "base_uri": "https://localhost:8080/"
        },
        "id": "ZhB0K1WB9VGH",
        "outputId": "78fbe9a1-1fc2-4d8a-e69b-9e8d37065375"
      },
      "execution_count": null,
      "outputs": [
        {
          "output_type": "stream",
          "name": "stdout",
          "text": [
            "{'map': tensor(0.2240),\n",
            " 'map_50': tensor(0.4926),\n",
            " 'map_75': tensor(0.1678),\n",
            " 'map_large': tensor(0.2967),\n",
            " 'map_medium': tensor(0.3260),\n",
            " 'map_per_class': tensor(-1.),\n",
            " 'map_small': tensor(0.1504),\n",
            " 'mar_1': tensor(0.2159),\n",
            " 'mar_10': tensor(0.2985),\n",
            " 'mar_100': tensor(0.3254),\n",
            " 'mar_100_per_class': tensor(-1.),\n",
            " 'mar_large': tensor(0.3512),\n",
            " 'mar_medium': tensor(0.4146),\n",
            " 'mar_small': tensor(0.2769)}\n"
          ]
        }
      ]
    },
    {
      "cell_type": "code",
      "source": [
        "val_precision_list_best, val_recall_list_best = percision_recall_roc_curve(norm_val_dataset, val_nms_preds_scores_best)"
      ],
      "metadata": {
        "colab": {
          "base_uri": "https://localhost:8080/",
          "height": 449
        },
        "id": "x-A36zeW9U3-",
        "outputId": "7dd8eaf5-05d4-429d-8b89-eed8d9f9fc2a"
      },
      "execution_count": null,
      "outputs": [
        {
          "output_type": "display_data",
          "data": {
            "text/plain": [
              "<Figure size 640x480 with 1 Axes>"
            ],
            "image/png": "[encoded data removed]"
          },
          "metadata": {}
        }
      ]
    },
    {
      "cell_type": "markdown",
      "source": [
        "#### Test"
      ],
      "metadata": {
        "id": "e1XS370Y9r5m"
      }
    },
    {
      "cell_type": "code",
      "source": [
        "test_preds_scores_best = retinaNet_best._predict_scores(norm_test_data_loader)\n",
        "test_nms_preds_scores_best = retinaNet_best._apply_non_maximum_surpression(test_preds_scores_best)"
      ],
      "metadata": {
        "colab": {
          "base_uri": "https://localhost:8080/"
        },
        "id": "t5AnNcZE9vFq",
        "outputId": "4327945e-3015-4e2c-94c9-2bc87171a5b5"
      },
      "execution_count": null,
      "outputs": [
        {
          "output_type": "stream",
          "name": "stderr",
          "text": [
            "100%|██████████| 355/355 [01:42<00:00,  3.48it/s]\n"
          ]
        }
      ]
    },
    {
      "cell_type": "code",
      "source": [
        "test_score_best = mAP(norm_test_data_loader, test_nms_preds_scores_best)\n",
        "pprint(test_score_best)"
      ],
      "metadata": {
        "colab": {
          "base_uri": "https://localhost:8080/"
        },
        "id": "jMaYVXV29u72",
        "outputId": "ee852d36-8561-4be8-87cc-01e36a939aea"
      },
      "execution_count": null,
      "outputs": [
        {
          "output_type": "stream",
          "name": "stdout",
          "text": [
            "{'map': tensor(0.1813),\n",
            " 'map_50': tensor(0.4555),\n",
            " 'map_75': tensor(0.1097),\n",
            " 'map_large': tensor(0.4591),\n",
            " 'map_medium': tensor(0.3212),\n",
            " 'map_per_class': tensor(-1.),\n",
            " 'map_small': tensor(0.1225),\n",
            " 'mar_1': tensor(0.1043),\n",
            " 'mar_10': tensor(0.2681),\n",
            " 'mar_100': tensor(0.3078),\n",
            " 'mar_100_per_class': tensor(-1.),\n",
            " 'mar_large': tensor(0.5079),\n",
            " 'mar_medium': tensor(0.5136),\n",
            " 'mar_small': tensor(0.2347)}\n"
          ]
        }
      ]
    },
    {
      "cell_type": "code",
      "source": [
        "test_precision_list_best, test_recall_list_best = percision_recall_roc_curve(norm_test_dataset, test_nms_preds_scores_best)"
      ],
      "metadata": {
        "colab": {
          "base_uri": "https://localhost:8080/",
          "height": 449
        },
        "id": "jgr7MIRT9tOK",
        "outputId": "a1d1b37e-655f-481c-848a-0a14b5ef6772"
      },
      "execution_count": null,
      "outputs": [
        {
          "output_type": "display_data",
          "data": {
            "text/plain": [
              "<Figure size 640x480 with 1 Axes>"
            ],
            "image/png": "[encoded data removed]"
          },
          "metadata": {}
        }
      ]
    },
    {
      "cell_type": "code",
      "source": [
        "plt.plot(test_recall_list2, test_precision_list2, label='Curve UN-Normalized Model', linestyle='-', marker='o')\n",
        "plt.plot(test_recall_list3, test_precision_list3, label='Curve Augmented Model', linestyle='--', marker='s')\n",
        "plt.plot(test_recall_list_best, test_precision_list_best, label='Curve Normalize Model', linestyle=':', marker='^')\n",
        "\n",
        "plt.xlabel('Recall')\n",
        "plt.ylabel('Precision')\n",
        "plt.legend()\n",
        "plt.show()"
      ],
      "metadata": {
        "colab": {
          "base_uri": "https://localhost:8080/",
          "height": 449
        },
        "id": "Lklpypes9P2M",
        "outputId": "27e9817d-a85e-40cc-c1f3-93ac5bb4f1df"
      },
      "execution_count": null,
      "outputs": [
        {
          "output_type": "display_data",
          "data": {
            "text/plain": [
              "<Figure size 640x480 with 1 Axes>"
            ],
            "image/png": "[encoded data removed]"
          },
          "metadata": {}
        }
      ]
    }
  ]
}